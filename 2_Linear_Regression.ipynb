{
  "nbformat": 4,
  "nbformat_minor": 0,
  "metadata": {
    "colab": {
      "provenance": [],
      "authorship_tag": "ABX9TyMcIv/Cx/vZchdo9mzRxl+e",
      "include_colab_link": true
    },
    "kernelspec": {
      "name": "python3",
      "display_name": "Python 3"
    },
    "language_info": {
      "name": "python"
    }
  },
  "cells": [
    {
      "cell_type": "markdown",
      "metadata": {
        "id": "view-in-github",
        "colab_type": "text"
      },
      "source": [
        "<a href=\"https://colab.research.google.com/github/Bzn6/Pytorch-Study/blob/main/2_Linear_Regression.ipynb\" target=\"_parent\"><img src=\"https://colab.research.google.com/assets/colab-badge.svg\" alt=\"Open In Colab\"/></a>"
      ]
    },
    {
      "cell_type": "markdown",
      "source": [
        "# 선형 회귀 실습"
      ],
      "metadata": {
        "id": "ewHdcX4UDOha"
      }
    },
    {
      "cell_type": "markdown",
      "source": [
        "## 기본setting"
      ],
      "metadata": {
        "id": "b4WVeQVpD8-P"
      }
    },
    {
      "cell_type": "code",
      "source": [
        "import torch\n",
        "import torch.optim as optim"
      ],
      "metadata": {
        "id": "wkeuI-MZDzF6"
      },
      "execution_count": null,
      "outputs": []
    },
    {
      "cell_type": "markdown",
      "source": [
        "## training dataset 생성\n",
        "`.tensor([...], dtype=torch.float32)` : 32비트 부동소수점(float32) 자료형으로 텐서를 생성\n",
        "\n",
        "`.FloatTensor([1,2,3])`\n",
        ": tensor([1., 2., 3.])  # 1차원 벡터\n",
        "\n",
        "`.FloatTensor([[1],[2],[3]])`\n",
        ": tensor([[1.],[2.],[3.]])  # 2차원 (3x1)"
      ],
      "metadata": {
        "id": "bBG0it0zQrFD"
      }
    },
    {
      "cell_type": "code",
      "source": [
        "# training data 생성\n",
        "x_train = torch.tensor([[1],[2],[3]], dtype=torch.float32)\n",
        "y_train = torch.tensor([[2],[4],[6]], dtype=torch.float32)"
      ],
      "metadata": {
        "id": "hyf1mRLUEFiz"
      },
      "execution_count": null,
      "outputs": []
    },
    {
      "cell_type": "markdown",
      "source": [
        "## learnable parapmeter 객체 생성\n",
        "`.zeros((a,b,c...),requires_grad=True)` :\n",
        "* zeros : 생성되는 tensor's elements를 0으로 초기화\n",
        "* (a,b,c...) : a x b x c... 차원의 tensor 생성\n",
        "* requires_grad=True : 해당 tensor의 속성에 grad 속성 추가\n",
        "\n",
        "#### tensor 생성 함수\n",
        "1. 고정값으로 채우기\n",
        "\t* \ttorch.zeros(size) → 전부 0\n",
        "\t* \ttorch.ones(size) → 전부 1\n",
        "\t* \ttorch.full(size, value) → 전부 특정 값\n",
        "\n",
        "2. 임의(random) 값으로 채우기\n",
        "\t* \ttorch.rand(size) → [0,1) 균일분포 (uniform)\n",
        "\t* \ttorch.randn(size) → 평균 0, 분산 1 정규분포 (normal)\n",
        "\t* \ttorch.randint(low, high, size) → 정수 난수\n",
        "3. 단위 행렬/대각 행렬\n",
        "\t* \ttorch.eye(n) → n×n 단위행렬(identity)\n",
        "\t* \ttorch.diag(tensor) → 주어진 벡터를 대각선에 넣음\n",
        "4. 기존 텐서 기반 생성\n",
        "\t* \ttorch.zeros_like(tensor) → 같은 shape, 전부 0\n",
        "\t* \ttorch.ones_like(tensor) → 같은 shape, 전부 1\n",
        "\t* \ttorch.rand_like(tensor) → 같은 shape, 난수"
      ],
      "metadata": {
        "id": "pBdUSTOESL9n"
      }
    },
    {
      "cell_type": "code",
      "source": [
        "# parameter 생성\n",
        "a = torch.zeros(1,requires_grad=True)\n",
        "b = torch.zeros(1,requires_grad=True)"
      ],
      "metadata": {
        "id": "YeovNG-HRP7I"
      },
      "execution_count": null,
      "outputs": []
    },
    {
      "cell_type": "markdown",
      "source": [
        "## optimizer 설정\n",
        "`optim.SGD([a,b],lr=0.1)` :\n",
        "* SGD : optimizer 종류\n",
        "* [a,b] : 해당 optim으로 학습 할 tensor\n",
        "* lr = 0.1 : learning rate"
      ],
      "metadata": {
        "id": "NRRiYWLEDQMJ"
      }
    },
    {
      "cell_type": "code",
      "source": [
        "optimizer = optim.SGD([a,b],lr=0.1) # optimizer 생성\n",
        "\n",
        "nb_epochs = 3000"
      ],
      "metadata": {
        "id": "qjoOh80fSNV4"
      },
      "execution_count": null,
      "outputs": []
    },
    {
      "cell_type": "markdown",
      "source": [
        "## 가설 함수 설정\n",
        "`hypothesis = x_train * a + b`\n",
        "\n",
        "## torch.mean vs python mean (또는 numpy.mean)\n",
        "* `torch.mean` = PyTorch autograd 친화적 (학습 가능한 loss 계산)\n",
        "* `python mean` = 단순 수치 평균 (딥러닝 학습에는 쓸 수 없음)\n",
        "\n",
        "## parameter 학습 과정\n",
        "`optimizer.zero_grad()` :\n",
        "optim에 할당된 learnable parameter의 .grad를 0으로 초기화\n",
        "\n",
        "`cost.backward()` :\n",
        "1. cost fuction을 a,b로 각각 편미분\n",
        "2. 편미분 함수에 값을 대입하여 기울기 계산\n",
        "3. 계산 결과를 .zeros(1,requires_grad=True) 에서 True로 선언함으로써 갖게 된 각 변수의 기울기 속성에 할당\n",
        "\n",
        "`optimizer.step()` :\n",
        "각각 a, b가 갖는 기울기 속성에 learning rate와 곱한 값을 기존 a, b에 빼주면서 a,b를 업데이트 하는 과정\n"
      ],
      "metadata": {
        "id": "qOU1uE2RXAN-"
      }
    },
    {
      "cell_type": "code",
      "source": [
        "for epoch in range(nb_epochs):\n",
        "  hypothesis = x_train * a + b # 가설 함수 설정\n",
        "\n",
        "  cost = 0.5*torch.mean((hypothesis-y_train)**2) # MSE cost func 정의\n",
        "\n",
        "  # 파라미터 학습 과정\n",
        "  optimizer.zero_grad()\n",
        "  cost.backward()\n",
        "  optimizer.step()\n",
        "\n",
        "  if epoch % 100 == 0:\n",
        "    print('Epoch {:4d}/{} a: {:.3f} b: {:.3f} Cost: {:.6f}'.format(epoch,nb_epochs,a.item(),b.item(),cost.item()))"
      ],
      "metadata": {
        "id": "Vs3JeqyNFskq"
      },
      "execution_count": null,
      "outputs": []
    }
  ]
}